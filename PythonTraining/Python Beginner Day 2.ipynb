{
 "cells": [
  {
   "cell_type": "markdown",
   "metadata": {},
   "source": [
    "- Join can work on string only. It doesn't work on integers."
   ]
  },
  {
   "cell_type": "code",
   "execution_count": 1,
   "metadata": {},
   "outputs": [],
   "source": [
    "input_lst = '15-12-18-10'\n",
    "expected_lst = '16-13-19-11'"
   ]
  },
  {
   "cell_type": "code",
   "execution_count": 20,
   "metadata": {},
   "outputs": [
    {
     "data": {
      "text/plain": [
       "'16-13-19-11'"
      ]
     },
     "execution_count": 20,
     "metadata": {},
     "output_type": "execute_result"
    }
   ],
   "source": [
    "out_lst = []\n",
    "\n",
    "for i in input_lst.split('-'):\n",
    "    out_lst.append(str(int(i)+1))\n",
    "\"-\".join(out_lst)"
   ]
  },
  {
   "cell_type": "code",
   "execution_count": 30,
   "metadata": {},
   "outputs": [
    {
     "name": "stdout",
     "output_type": "stream",
     "text": [
      "[15, 12, 18, 10]\n"
     ]
    }
   ],
   "source": [
    "out = list(map(int, input_lst.split('-')))\n",
    "print(out)"
   ]
  },
  {
   "cell_type": "markdown",
   "metadata": {},
   "source": [
    "Map function creates a map and it is a pointer. So to get a list we need to cast it to list."
   ]
  },
  {
   "cell_type": "code",
   "execution_count": 27,
   "metadata": {},
   "outputs": [
    {
     "data": {
      "text/plain": [
       "'16-13-19-11'"
      ]
     },
     "execution_count": 27,
     "metadata": {},
     "output_type": "execute_result"
    }
   ],
   "source": [
    "'-'.join([str(int(e) + 1) for e in input_lst.split('-')])"
   ]
  },
  {
   "cell_type": "markdown",
   "metadata": {},
   "source": [
    "for loop in python : for i in range(0,10,1):"
   ]
  },
  {
   "cell_type": "markdown",
   "metadata": {},
   "source": [
    "## Tuples"
   ]
  },
  {
   "cell_type": "markdown",
   "metadata": {},
   "source": [
    "they are iterrable, allows indexing, allows \n",
    "They are im-mutables and can be used for read only purpose.\n",
    "Allows defining using () or simple a = 10,20,30 etc\n",
    "allows len()\n",
    "allows search using 'in'\n",
    "allows comparison\n",
    "allows merging and unpacking\n",
    "\n",
    "a=(10,20,30) <- creating a tuple\n",
    "a,b,c=10,20,30 <- unpacking (LHS count should be equal to RHS)\n",
    "\n",
    "tuple and list allow type conversion using the constructor.\n"
   ]
  },
  {
   "cell_type": "code",
   "execution_count": 40,
   "metadata": {},
   "outputs": [],
   "source": [
    "a = 10,20,30"
   ]
  },
  {
   "cell_type": "code",
   "execution_count": 41,
   "metadata": {},
   "outputs": [
    {
     "data": {
      "text/plain": [
       "tuple"
      ]
     },
     "execution_count": 41,
     "metadata": {},
     "output_type": "execute_result"
    }
   ],
   "source": [
    "type(a)"
   ]
  },
  {
   "cell_type": "code",
   "execution_count": 43,
   "metadata": {},
   "outputs": [
    {
     "name": "stdout",
     "output_type": "stream",
     "text": [
      "10 20 [30, 40, 50, 60] 11 [21, 31, 41, 51] 61 [12, 22, 32, 42] 52 62\n"
     ]
    }
   ],
   "source": [
    "a, b, *c = 10,20,30,40,50,60\n",
    "x, *y, z = 11,21,31,41,51,61\n",
    "*e, f, g = 12,22,32,42,52,62\n",
    "\n",
    "print(a,b,c,x,y,z,e,f,g)\n",
    "#The * is creating list"
   ]
  },
  {
   "cell_type": "code",
   "execution_count": 44,
   "metadata": {},
   "outputs": [],
   "source": [
    "a,b = 10,20\n",
    "a,b = b,a"
   ]
  },
  {
   "cell_type": "code",
   "execution_count": 47,
   "metadata": {},
   "outputs": [
    {
     "ename": "TypeError",
     "evalue": "not enough arguments for format string",
     "output_type": "error",
     "traceback": [
      "\u001b[1;31m---------------------------------------------------------------------------\u001b[0m",
      "\u001b[1;31mTypeError\u001b[0m                                 Traceback (most recent call last)",
      "\u001b[1;32m<ipython-input-47-4441ea02c457>\u001b[0m in \u001b[0;36m<module>\u001b[1;34m()\u001b[0m\n\u001b[1;32m----> 1\u001b[1;33m \u001b[0mprint\u001b[0m\u001b[1;33m(\u001b[0m\u001b[1;34m\"hello %s %s %s %s\"\u001b[0m \u001b[1;33m%\u001b[0m\u001b[1;33m(\u001b[0m\u001b[0mc\u001b[0m\u001b[1;33m)\u001b[0m\u001b[1;33m)\u001b[0m \u001b[1;31m#internally this is tuple unpacking\u001b[0m\u001b[1;33m\u001b[0m\u001b[0m\n\u001b[0m",
      "\u001b[1;31mTypeError\u001b[0m: not enough arguments for format string"
     ]
    }
   ],
   "source": [
    "print(\"hello %s %s %s\" %(a,b,c)) #internally this is tuple unpacking"
   ]
  },
  {
   "cell_type": "code",
   "execution_count": 48,
   "metadata": {},
   "outputs": [],
   "source": [
    "dob = '20-sep-1986'\n",
    "day,month,year = dob.split('-') # list unpacking"
   ]
  },
  {
   "cell_type": "code",
   "execution_count": 49,
   "metadata": {},
   "outputs": [
    {
     "name": "stdout",
     "output_type": "stream",
     "text": [
      "20 sep 1986\n"
     ]
    }
   ],
   "source": [
    "print(day, month, year)"
   ]
  },
  {
   "cell_type": "code",
   "execution_count": 50,
   "metadata": {},
   "outputs": [],
   "source": [
    "#list Multiplier\n",
    "a= [None] * 10"
   ]
  },
  {
   "cell_type": "code",
   "execution_count": 57,
   "metadata": {},
   "outputs": [
    {
     "name": "stdout",
     "output_type": "stream",
     "text": [
      "[[1, 2, 3], [1, 2, 3], [1, 2, 3]]\n",
      "1\n",
      "[['*', 2, 3], ['*', 2, 3], ['*', 2, 3]]\n"
     ]
    }
   ],
   "source": [
    "a = [[1,2,3]] * 3\n",
    "print(a)\n",
    "print(a[2][0])\n",
    "a[0][0] = '*' # shallow copy is changed hence the change is happening through out the place.\n",
    "# As the list is a list of memory references. if we multiply a scalar to the list as above.\n",
    "# the list is repeated but the reference remains the same.\n",
    "print(a)"
   ]
  },
  {
   "cell_type": "code",
   "execution_count": 54,
   "metadata": {},
   "outputs": [
    {
     "name": "stdout",
     "output_type": "stream",
     "text": [
      "['*', 50, 60]\n"
     ]
    }
   ],
   "source": [
    "a = [10,20,30,40,50,60]\n",
    "a[0:4] = '*'\n",
    "print(a)"
   ]
  },
  {
   "cell_type": "code",
   "execution_count": 55,
   "metadata": {},
   "outputs": [
    {
     "name": "stdout",
     "output_type": "stream",
     "text": [
      "['*', '*', '*', '*', 50, 60]\n"
     ]
    }
   ],
   "source": [
    "a = [10,20,30,40,50,60]\n",
    "a[0:4] = '*' * 4\n",
    "print(a)"
   ]
  },
  {
   "cell_type": "code",
   "execution_count": 56,
   "metadata": {},
   "outputs": [
    {
     "name": "stdout",
     "output_type": "stream",
     "text": [
      "[1, 1, 1, 1, 30, 40, 50, 60]\n"
     ]
    }
   ],
   "source": [
    "a = [10,20,30,40,50,60]\n",
    "a[0:2] = [1] * 4\n",
    "print(a)"
   ]
  },
  {
   "cell_type": "markdown",
   "metadata": {},
   "source": [
    "- Sorts never return any value and does an inplace sort. sorted(a) is a way to perform the out of place sorting.\n",
    "- a.reverse() - performs the inplace operation but a[::-1] performs out of place operation and creates new copy\n",
    "\n",
    "- sort and reverse are allowed for list but sorted and a[::-1] is allowed for tuple and list"
   ]
  },
  {
   "cell_type": "markdown",
   "metadata": {},
   "source": [
    "- Sequences : Order is maintained e.g. str/tuple/list\n",
    "- Non-Sequences : Order is not maintained, Unordered Structures e.g. dict/set"
   ]
  },
  {
   "cell_type": "markdown",
   "metadata": {},
   "source": [
    "### Set-classes"
   ]
  },
  {
   "cell_type": "code",
   "execution_count": 58,
   "metadata": {},
   "outputs": [],
   "source": [
    "a = {10,20,30,40,50,20,50,10}"
   ]
  },
  {
   "cell_type": "code",
   "execution_count": 59,
   "metadata": {},
   "outputs": [
    {
     "name": "stdout",
     "output_type": "stream",
     "text": [
      "{40, 10, 50, 20, 30}\n"
     ]
    }
   ],
   "source": [
    "print(a)"
   ]
  },
  {
   "cell_type": "markdown",
   "metadata": {},
   "source": [
    "Sets in python follow set operations.\n",
    "- a-b = a'\n",
    "- b-a = b'\n",
    "- a&b = a n b\n",
    "- a|b = a u b\n",
    "- a^b\n",
    "\n",
    "sets are collection of unique-immutable values\n",
    "- dupllicates are deleted automatically\n",
    "- mutable\n",
    "- non-sequenced storage\n",
    "- indexing is not allowed\n",
    "- slicing is not allowed\n",
    "- iterable\n",
    "\n",
    "- define empty set set()\n",
    "- a = {10,20,30,40}\n",
    "- b={30,50,40,60\n",
    "- length of a set = len(a)\n",
    "- search = if 50 in a:\n",
    "- add new element : a.add(60)\n",
    "- delete an element :  a.remove(45)\n",
    "\n",
    "- difference : c = a.difference(b) or a-b\n",
    "- union : c = a.union(b) or a|b\n",
    "- intersection : c=a.intersection(b) or a&b\n",
    "- sym diff : c=a^b"
   ]
  },
  {
   "cell_type": "code",
   "execution_count": 65,
   "metadata": {},
   "outputs": [
    {
     "name": "stdout",
     "output_type": "stream",
     "text": [
      "{'mum', 'blr'}\n",
      "{'hyd', 'pune', 'tvm', 'chn', 'coc'}\n",
      "{'hyd', 'pune', 'tvm', 'chn', 'coc'}\n"
     ]
    }
   ],
   "source": [
    "qtr1 = ['blr', 'chn', 'hyd', 'tvm', 'mum']\n",
    "qtr2 = ['mum', 'blr', 'coc', 'pune']\n",
    "\n",
    "print(set(qtr1) & set(qtr2))\n",
    "print((set(qtr1)|set(qtr2)) - (set(qtr2)&set(qtr1)))\n",
    "print(set(qtr1)^set(qtr2))"
   ]
  },
  {
   "cell_type": "markdown",
   "metadata": {},
   "source": [
    "### Dictionary"
   ]
  },
  {
   "cell_type": "markdown",
   "metadata": {},
   "source": [
    "- Collection of key value pairs\n",
    "- mutable\n",
    "- non-sequential\n",
    "\n",
    "- indexing allowed\n",
    "- slicing not allowed\n",
    "- iterable\n",
    "\n",
    "- define empty : a={}\n",
    "- define with values : a ={\"Monday\" : 1, \"Tuesday\" : 2, \"Wednesday\" : 3}\n",
    "- get the value of Monday : a[\"Monday\"]\n",
    "- a.get(\"Sunday\", None) - returns none if key not found. Something else can be used instead of None\n",
    "- override/set/create new key value : a[\"Thursday\"] : 4\n",
    "- search for \"Tuesday\" : if \"Tuesday\" in a:\n",
    "- delete Wednesday : a.pop(\"Wednesday\")\n",
    "\n",
    "- Compare 2 dict : if a==b:\n",
    "- merge :c = {**a, **b}\n",
    "- add a to c : c.update(a)\n"
   ]
  },
  {
   "cell_type": "code",
   "execution_count": 68,
   "metadata": {},
   "outputs": [
    {
     "name": "stdout",
     "output_type": "stream",
     "text": [
      "What do you want to order: \n",
      "There is no item as \n"
     ]
    }
   ],
   "source": [
    "#Represent the menu\n",
    "#prompt the user to enter the item\n",
    "#if found display the price\n",
    "#if not found display the error message\n",
    "\n",
    "#extend this to add/modify/delete things to menu via admin\n",
    "#allow user to repeat for atleast 3 times and quit if item not found all times\n",
    "\n",
    "menu = {\"poha\":20, \"upma\":25, \"idli\":20, \"dosa\":30}\n",
    "key = input(\"What do you want to order: \")\n",
    "if key.strip() in menu:\n",
    "    print(\"Price for\", key, \"is\", menu[key])\n",
    "else:\n",
    "    print(\"There is no item as\", key)\n"
   ]
  },
  {
   "cell_type": "code",
   "execution_count": 70,
   "metadata": {},
   "outputs": [
    {
     "data": {
      "text/plain": [
       "{'a': 1, 'b': 2, 'c': 3, 'd': 4}"
      ]
     },
     "execution_count": 70,
     "metadata": {},
     "output_type": "execute_result"
    }
   ],
   "source": [
    "a = [\"a\",\"b\",\"c\",\"d\"]\n",
    "b = [1,2,3,4]\n",
    "zip(a,b)\n",
    "dict(zip(a,b))"
   ]
  },
  {
   "cell_type": "code",
   "execution_count": 73,
   "metadata": {},
   "outputs": [
    {
     "name": "stdout",
     "output_type": "stream",
     "text": [
      "poha\n",
      "upma\n",
      "idli\n",
      "dosa\n",
      "poha 20\n",
      "upma 25\n",
      "idli 20\n",
      "dosa 30\n",
      "dict_keys(['poha', 'upma', 'idli', 'dosa'])\n",
      "dict_values([20, 25, 20, 30])\n"
     ]
    }
   ],
   "source": [
    "for item in menu:\n",
    "    print(item)\n",
    "#iterates though the keys only to get the value menu['key'] needs to be used.\n",
    "\n",
    "for key,value in menu.items():\n",
    "    print(key, value)\n",
    "#items returns iterable data as list of key value pair\n",
    "\n",
    "print(menu.keys()) # lists only the keys\n",
    "print(menu.values()) # lists the values"
   ]
  },
  {
   "cell_type": "markdown",
   "metadata": {},
   "source": [
    "### Nested Data Structure"
   ]
  },
  {
   "cell_type": "code",
   "execution_count": 76,
   "metadata": {},
   "outputs": [
    {
     "name": "stdout",
     "output_type": "stream",
     "text": [
      "MGRoad\n",
      "z\n",
      "1\n"
     ]
    }
   ],
   "source": [
    "#In python list is not same as array. It can have any datatype.\n",
    "a = {'blr': {'loc': 'MGRoad',\n",
    "            'team' : ['a', 'b', 'c'],\n",
    "            'report':{'Q1': 1, 'Q2':2, 'Q3':3, 'Q4':4}\n",
    "            },\n",
    "     'chn': {'loc': 'Tnagar',\n",
    "            'team' : ['x', 'y', 'z'],\n",
    "            'report':{'Q1': 5, 'Q2':6, 'Q3':7, 'Q4':8}\n",
    "            }\n",
    "    }\n",
    "\n",
    "print(a['blr']['loc'])\n",
    "print(a['chn']['team'][2])\n",
    "print(a['blr']['report']['Q1'])"
   ]
  },
  {
   "cell_type": "code",
   "execution_count": 78,
   "metadata": {},
   "outputs": [],
   "source": [
    "students = {'101': {'name':'Amit',\n",
    "                    'marks' : {'s1':10,'s2':20,'s3':30},\n",
    "                    'activity' : {'Act1':True, 'Act1':True, 'Act1':False, 'Act1':False}\n",
    "                   },\n",
    "            '102' : {'name':'Ranjit',\n",
    "                    'marks' : {'s1':40,'s2':50,'s3':60},\n",
    "                    'activity' : {'Act1':False, 'Act1':False, 'Act1':False, 'Act1':True}\n",
    "                   }\n",
    "           }"
   ]
  },
  {
   "cell_type": "code",
   "execution_count": 80,
   "metadata": {},
   "outputs": [
    {
     "name": "stdout",
     "output_type": "stream",
     "text": [
      "Amit\n",
      "40\n",
      "True\n"
     ]
    }
   ],
   "source": [
    "print(students['101']['name'])\n",
    "print(students['102']['marks']['s1'])\n",
    "print(students['102']['activity']['Act1'])"
   ]
  },
  {
   "cell_type": "code",
   "execution_count": 97,
   "metadata": {},
   "outputs": [
    {
     "name": "stdout",
     "output_type": "stream",
     "text": [
      "array('i', [10])\n"
     ]
    }
   ],
   "source": [
    "#Array creation in Python\n",
    "import array\n",
    "arr = array.array(\"i\")\n",
    "arr.append(10)\n",
    "print(arr)"
   ]
  },
  {
   "cell_type": "code",
   "execution_count": 94,
   "metadata": {},
   "outputs": [
    {
     "name": "stdout",
     "output_type": "stream",
     "text": [
      "deque([-20, -10, 0, 10, 20])\n"
     ]
    },
    {
     "data": {
      "text/plain": [
       "-20"
      ]
     },
     "execution_count": 94,
     "metadata": {},
     "output_type": "execute_result"
    }
   ],
   "source": [
    "import collections\n",
    "import bisect\n",
    "a =  collections.deque()\n",
    "a.append(0)\n",
    "a.appendleft(-10)\n",
    "a.append(10)\n",
    "a.append(20)\n",
    "a.appendleft(-20)\n",
    "print(a)\n",
    "a.pop()\n",
    "a.popleft()\n",
    "\n",
    "collections.counter(list_name) #frequency counter "
   ]
  },
  {
   "cell_type": "markdown",
   "metadata": {},
   "source": [
    "### Files"
   ]
  },
  {
   "cell_type": "markdown",
   "metadata": {},
   "source": [
    "- Files are of 2 types Text and Binary\n",
    "- Files are used to store the data for future use\n",
    "- It helps persist the data\n",
    "- there are 3 ref points : \n",
    "    - BOF - 0\n",
    "    - CUR - 1\n",
    "    - EOF - 2\n",
    "\n",
    "- r/rb - readonly\n",
    "- w/wb - overwrite\n",
    "- a/ab - append\n",
    "- r+/rb+ - read then write\n",
    "- w+/wb+ - overwrite then read\n",
    "- a+/ab+ - append then read - merge 2 files\n",
    "\n",
    "- as we write/read file cursor which also advances\n",
    "\n",
    "- Random access of the file\n",
    "- handler.seek(OFFSET, FROM_WHERE)\n",
    "\n",
    "- fob.seek(0,0) - reset to BOF\n",
    "- fob.seek(0,2) - reset to EOF\n",
    "\n",
    "- fob.tell() - return the no of bytes advanced from BOF\n",
    "\n",
    "- r+ and a+ - r+ can modify old data while a+ can add new data to old data."
   ]
  },
  {
   "cell_type": "code",
   "execution_count": 101,
   "metadata": {},
   "outputs": [
    {
     "name": "stdout",
     "output_type": "stream",
     "text": [
      "Hello world.\n",
      "\n",
      "This is new File.\n",
      "\n",
      "end of file.Hello world.\n",
      "\n",
      "This is new File.\n",
      "\n",
      "end of file.\n"
     ]
    }
   ],
   "source": [
    "#f1 = open(\"F:\\\\STUDY\\\\one.txt\", 'w+')\n",
    "#f1 = open(r\"F:\\STUDY\\one.txt\", 'w+')\n",
    "f1 = open(\"F:/STUDY/one.txt\", 'w+') # Overwrite and read\n",
    "\n",
    "f1.write(\"Hello world.\\n\")\n",
    "f1.write(\"This is new File.\\n\")\n",
    "f1.write(\"end of file.\")\n",
    "#The pointer is at the end and now we want to move to beginning to start reading\n",
    "#what we wrote\n",
    "f1.seek(0,0) #reset the cursor to the beginning\n",
    "\n",
    "for reader in f1:\n",
    "    print(reader)\n",
    "\n",
    "f1.close()"
   ]
  },
  {
   "cell_type": "markdown",
   "metadata": {},
   "source": [
    "-- Other types of read\n",
    "- strbuffer = fob.read() # read the complete file and return a string\n",
    "- strbuffer = fob.read(BLOCKSIZE) # read a block and returns a string/block\n",
    "- strbuffer =  fob.readline() # read a line\n",
    "- lstbuffer = fob.readlines() # reads complete file and returns strlist"
   ]
  },
  {
   "cell_type": "code",
   "execution_count": 115,
   "metadata": {},
   "outputs": [],
   "source": [
    "f1 = open(\"F:/STUDY/one.txt\",\"r\")\n",
    "f2 = open(\"two.txt\", \"w\")\n",
    "\n",
    "f2.write(f1.read())\n",
    "\n",
    "f1.close()\n",
    "f2.close()"
   ]
  },
  {
   "cell_type": "code",
   "execution_count": 110,
   "metadata": {},
   "outputs": [
    {
     "name": "stdout",
     "output_type": "stream",
     "text": [
      "['123\\n', '43\\n', '65\\n', '34\\n', '76\\n', '87\\n', '34\\n', '53\\n']\n"
     ]
    }
   ],
   "source": [
    "f1 = open(\"nums.txt\")\n",
    "#\n",
    "#f1.write(\"123\\n\")\n",
    "#f1.write(\"43\\n\")\n",
    "#f1.write(\"65\\n\")\n",
    "#f1.write(\"34\\n\")\n",
    "#f1.write(\"76\\n\")\n",
    "#f1.write(\"87\\n\")\n",
    "#f1.write(\"34\\n\")\n",
    "#f1.write(\"53\\n\")\n",
    "#\n",
    "#f1.seek(0,0)\n",
    "\n",
    "#This works but it can also be done in other ways. 1 way is as below.\n",
    "\n",
    "#for reader in f1:\n",
    "#    if int(reader)%2 == 0:\n",
    "#        f3.write(str(reader)+\"\\n\")\n",
    "#    else:\n",
    "#        f2.write(str(reader) + \"\\n\")\n",
    "\n",
    "\n",
    "strbuffer = f1.readlines()\n",
    "evenlst = []\n",
    "oddlst = []\n",
    "\n",
    "print(strbuffer)\n",
    "\n",
    "for entry in strbuffer:\n",
    "    if int(entry)%2 == 0:\n",
    "        evenlst.append(entry)\n",
    "    else:\n",
    "        oddlst.append(entry)\n",
    "\n",
    "f2 = open(\"odd.txt\", \"w\")\n",
    "f3 = open('even.txt', 'w')\n",
    "\n",
    "f2.write(str(oddlst))\n",
    "f3.write(str(evenlst))\n",
    "\n",
    "f2.close()\n",
    "f3.close()\n",
    "f1.close()\n",
    "        "
   ]
  },
  {
   "cell_type": "code",
   "execution_count": 114,
   "metadata": {},
   "outputs": [
    {
     "name": "stdout",
     "output_type": "stream",
     "text": [
      "{'g1': 'red', 'g2': 'blue', 'g3': 'green', 'g4': 'pink', 'g5': 'orange'}\n"
     ]
    }
   ],
   "source": [
    "#Read from file convert it to a dictionary\n",
    "f1 = open('group.txt')\n",
    "\n",
    "dict1 = {}\n",
    "\n",
    "for reader in f1:\n",
    "    key,value = reader.strip().split(',')\n",
    "    dict1[key] = value\n",
    "\n",
    "f1.close()\n",
    "\n",
    "print(dict1)"
   ]
  },
  {
   "cell_type": "markdown",
   "metadata": {},
   "source": [
    "### Functions\n",
    "- reduces complexity\n",
    "- enables - unit testing\n",
    "- library development\n",
    "- modular development\n",
    "- variable defines within function & arguments - Local\n",
    "- variables defined outside function - Global\n",
    "- Functions has to be defined before call because python is interpreter language\n",
    " - eg.\n",
    "    def square(num):\n",
    "        return(num**2)\n",
    "\n",
    "- a local lookup table is created for a function when the function call happens and it is garbage collected when the function ends.\n",
    "- The function name is stored in the --main-- lookup table for reference referring the execution area of function."
   ]
  },
  {
   "cell_type": "code",
   "execution_count": 126,
   "metadata": {},
   "outputs": [
    {
     "name": "stdout",
     "output_type": "stream",
     "text": [
      "Enter your name: dasd\n",
      "Enter male/female: female\n",
      "Hello Ms.dasd\n"
     ]
    }
   ],
   "source": [
    "def greet(name, gender):\n",
    "    print(\"Hello \" + ('Mr.' if (gender == \"male\") else 'Ms.') + name)\n",
    "\n",
    "name = input(\"Enter your name: \")\n",
    "gender = input(\"Enter male/female: \")\n",
    "\n",
    "greet(name, gender)"
   ]
  },
  {
   "cell_type": "markdown",
   "metadata": {},
   "source": [
    "positional, default, keyword calls"
   ]
  },
  {
   "cell_type": "markdown",
   "metadata": {},
   "source": [
    "### Libraries\n",
    "- collections of variable, collections of functions, collection of classes is called a module\n",
    "- collections of modules is called package\n",
    "- file extensions compulsory to have .py\n",
    "- every module will have its own namespace - to avaoid name clashes\n",
    "- every module will have its own precompiled file - .pyc\n",
    "    - pyc - portable\n",
    "- fully qualified names (FQN)\n",
    "- Relative names\n",
    "\n",
    "- python converts the .py file to "
   ]
  },
  {
   "cell_type": "code",
   "execution_count": 130,
   "metadata": {},
   "outputs": [
    {
     "name": "stdout",
     "output_type": "stream",
     "text": [
      "9\n",
      "0.8\n"
     ]
    }
   ],
   "source": [
    "import mathlib as ml\n",
    "\n",
    "print(ml.add(4,5))\n",
    "print(ml.quot(4,5))"
   ]
  },
  {
   "cell_type": "markdown",
   "metadata": {},
   "source": [
    "From [package/module] import [module/function as alias_name] or *\n",
    "\n",
    "- import keyword can include only Modules and CANNOT include PACKAGE\n",
    "- import needs fully qualified name\n",
    "- using FROM we can give the path and mention only the function names in import\n",
    "- its good to alias the function names.\n",
    "\n",
    "- To avoid multiple import calls we can use From packagename import *\n",
    "- but every time we use, we need the relative path after packagename\n",
    "\n",
    "- any folder that has ____init___.py is called package\n",
    "- any folder not having it is normal folder\n",
    "- it is empty file but necessary to have\n",
    "\n",
    "Classes have 1st character in upper case\n",
    "- every class is a subclass of special class \"object\"\n",
    "- python runtinme classes unlike JAVA/C# - compile time\n",
    "- Constructor - defined with ___init____ which takes self as the input at least\n",
    "- Destructor - defined with ___del____ which takes self as the input at least\n",
    "- we do not declare DataMember in python classes\n",
    "- this is replaced with self\n",
    "\n",
    "python -m pdb pythonfile_name"
   ]
  },
  {
   "cell_type": "markdown",
   "metadata": {},
   "source": [
    "## Questions\n",
    "- Can we not add string and number using + ?\n",
    "- can we select two indexes simultaneously from a list? Answer No\n",
    "- Whats the difference between series and list?"
   ]
  },
  {
   "cell_type": "code",
   "execution_count": null,
   "metadata": {},
   "outputs": [],
   "source": []
  }
 ],
 "metadata": {
  "kernelspec": {
   "display_name": "Python 3",
   "language": "python",
   "name": "python3"
  },
  "language_info": {
   "codemirror_mode": {
    "name": "ipython",
    "version": 3
   },
   "file_extension": ".py",
   "mimetype": "text/x-python",
   "name": "python",
   "nbconvert_exporter": "python",
   "pygments_lexer": "ipython3",
   "version": "3.6.5"
  }
 },
 "nbformat": 4,
 "nbformat_minor": 2
}
